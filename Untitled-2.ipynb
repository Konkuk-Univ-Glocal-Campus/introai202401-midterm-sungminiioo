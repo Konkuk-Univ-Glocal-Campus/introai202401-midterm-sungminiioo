{
 "cells": [
  {
   "cell_type": "code",
   "execution_count": 24,
   "metadata": {},
   "outputs": [
    {
     "name": "stdout",
     "output_type": "stream",
     "text": [
      "이미지 shape: (10000, 28, 28)\n",
      "레이블 shape: (10000,)\n"
     ]
    }
   ],
   "source": [
    "import gzip\n",
    "import numpy as np\n",
    "\n",
    "def load_mnist_images(filename):\n",
    "    with gzip.open(filename, 'rb') as f:\n",
    "        # 매직 넘버 읽기\n",
    "        magic = int.from_bytes(f.read(4), 'big')\n",
    "        if magic != 2051:\n",
    "            raise ValueError(\"Invalid magic number in MNIST image file: {}\".format(magic))\n",
    "        \n",
    "        # 이미지 수, 행, 열 읽기\n",
    "        num_images = int.from_bytes(f.read(4), 'big')\n",
    "        num_rows = int.from_bytes(f.read(4), 'big')\n",
    "        num_cols = int.from_bytes(f.read(4), 'big')\n",
    "        \n",
    "        # 이미지 데이터 읽기\n",
    "        images = np.frombuffer(f.read(), dtype=np.uint8)\n",
    "        images = images.reshape((num_images, num_rows, num_cols))\n",
    "        \n",
    "        return images\n",
    "\n",
    "def load_mnist_labels(filename):\n",
    "    with gzip.open(filename, 'rb') as f:\n",
    "        # 매직 넘버 읽기\n",
    "        magic = int.from_bytes(f.read(4), 'big')\n",
    "        if magic != 2049:\n",
    "            raise ValueError(\"Invalid magic number in MNIST label file: {}\".format(magic))\n",
    "        \n",
    "        # 레이블 수 읽기\n",
    "        num_labels = int.from_bytes(f.read(4), 'big')\n",
    "        \n",
    "        # 레이블 데이터 읽기\n",
    "        labels = np.frombuffer(f.read(), dtype=np.uint8)\n",
    "        \n",
    "        return labels\n",
    "\n",
    "# 파일 경로 설정\n",
    "images_path = 't10k-images-idx3-ubyte.gz'\n",
    "labels_path = 't10k-labels-idx1-ubyte.gz'\n",
    "\n",
    "# MNIST 이미지와 레이블 로드\n",
    "images = load_mnist_images(images_path)\n",
    "labels = load_mnist_labels(labels_path)\n",
    "\n",
    "# 데이터 확인\n",
    "print(\"이미지 shape:\", images.shape)\n",
    "print(\"레이블 shape:\", labels.shape)\n"
   ]
  },
  {
   "cell_type": "code",
   "execution_count": 25,
   "metadata": {},
   "outputs": [
    {
     "name": "stdout",
     "output_type": "stream",
     "text": [
      "학습 이미지 shape: (7000, 28, 28)\n",
      "테스트 이미지 shape: (3000, 28, 28)\n",
      "학습 레이블 shape: (7000,)\n",
      "테스트 레이블 shape: (3000,)\n"
     ]
    }
   ],
   "source": [
    "# 학습 데이터와 테스트 데이터 분리\n",
    "\n",
    "num_test_samples = 3000\n",
    "\n",
    "train_images = images[:-num_test_samples]\n",
    "test_images = images[-num_test_samples:]\n",
    "train_labels = labels[:-num_test_samples]\n",
    "test_labels = labels[-num_test_samples:]\n",
    "\n",
    "# 데이터 형태 확인\n",
    "print(\"학습 이미지 shape:\", train_images.shape)\n",
    "print(\"테스트 이미지 shape:\", test_images.shape)\n",
    "print(\"학습 레이블 shape:\", train_labels.shape)\n",
    "print(\"테스트 레이블 shape:\", test_labels.shape)\n"
   ]
  },
  {
   "cell_type": "code",
   "execution_count": 26,
   "metadata": {},
   "outputs": [],
   "source": [
    "# 이미지 스케일링 (0에서 255 사이의 값을 0에서 1 사이로 스케일링)\n",
    "train_images = train_images.astype('float32') / 255.0\n",
    "test_images = test_images.astype('float32') / 255.0\n",
    "\n",
    "# 레이블 형 변환 (정수형에서 부동 소수점으로 변환)\n",
    "train_labels = train_labels.astype('float32')\n",
    "test_labels = test_labels.astype('float32')"
   ]
  },
  {
   "cell_type": "code",
   "execution_count": 27,
   "metadata": {},
   "outputs": [
    {
     "name": "stdout",
     "output_type": "stream",
     "text": [
      "학습 레이블의 원핫 인코딩 결과: (7000, 10)\n",
      "테스트 레이블의 원핫 인코딩 결과: (3000, 10)\n"
     ]
    }
   ],
   "source": [
    "# 학습 레이블과 테스트 레이블을 원핫 인코딩합니다.\n",
    "num_classes = 10  # MNIST 데이터셋은 숫자 0부터 9까지 총 10개의 클래스가 있습니다.\n",
    "\n",
    "train_labels_onehot = np.eye(num_classes)[train_labels.astype('int')]\n",
    "test_labels_onehot = np.eye(num_classes)[test_labels.astype('int')]\n",
    "\n",
    "# 결과 확인\n",
    "print(\"학습 레이블의 원핫 인코딩 결과:\", train_labels_onehot.shape)\n",
    "print(\"테스트 레이블의 원핫 인코딩 결과:\", test_labels_onehot.shape)\n"
   ]
  },
  {
   "cell_type": "code",
   "execution_count": 28,
   "metadata": {},
   "outputs": [
    {
     "name": "stdout",
     "output_type": "stream",
     "text": [
      "학습 이미지 shape: (5600, 28, 28)\n",
      "학습 레이블 shape: (5600, 10)\n",
      "검증 이미지 shape: (1400, 28, 28)\n",
      "검증 레이블 shape: (1400, 10)\n"
     ]
    }
   ],
   "source": [
    "# 학습 데이터를 더 작은 학습 데이터와 검증 데이터로 분리합니다.\n",
    "validation_ratio = 0.2  # 검증 데이터의 비율\n",
    "\n",
    "num_train_samples = len(train_images)\n",
    "num_validation_samples = int(num_train_samples * validation_ratio)\n",
    "\n",
    "# 학습 데이터와 검증 데이터 분리\n",
    "validation_images = train_images[-num_validation_samples:]\n",
    "validation_labels = train_labels_onehot[-num_validation_samples:]\n",
    "train_images = train_images[:-num_validation_samples]\n",
    "train_labels_onehot = train_labels_onehot[:-num_validation_samples]\n",
    "\n",
    "# 데이터 확인\n",
    "print(\"학습 이미지 shape:\", train_images.shape)\n",
    "print(\"학습 레이블 shape:\", train_labels_onehot.shape)\n",
    "print(\"검증 이미지 shape:\", validation_images.shape)\n",
    "print(\"검증 레이블 shape:\", validation_labels.shape)"
   ]
  },
  {
   "cell_type": "code",
   "execution_count": 29,
   "metadata": {},
   "outputs": [
    {
     "name": "stdout",
     "output_type": "stream",
     "text": [
      "학습 이미지 shape: (8000, 28, 28)\n",
      "학습 레이블 shape: (8000,)\n",
      "검증 이미지 shape: (1000, 28, 28)\n",
      "검증 레이블 shape: (1000,)\n",
      "테스트 이미지 shape: (1000, 28, 28)\n",
      "테스트 레이블 shape: (1000,)\n"
     ]
    }
   ],
   "source": [
    "# 데이터셋을 학습, 검증, 테스트 데이터셋으로 분리합니다.\n",
    "def split_dataset(images, labels, validation_ratio=0.1, test_ratio=0.1): # 검증 데이터의 비율\n",
    "    num_samples = len(images)\n",
    "    num_validation_samples = int(num_samples * validation_ratio)\n",
    "    num_test_samples = int(num_samples * test_ratio)\n",
    "\n",
    "    # 데이터를 랜덤하게 섞습니다.\n",
    "    np.random.seed(42)\n",
    "    shuffle_indices = np.random.permutation(num_samples)\n",
    "    images_shuffled = images[shuffle_indices]\n",
    "    labels_shuffled = labels[shuffle_indices]\n",
    "\n",
    "    # 학습, 검증, 테스트 데이터셋으로 분리합니다.\n",
    "    validation_images = images_shuffled[:num_validation_samples]\n",
    "    validation_labels = labels_shuffled[:num_validation_samples]\n",
    "    test_images = images_shuffled[num_validation_samples:num_validation_samples + num_test_samples]\n",
    "    test_labels = labels_shuffled[num_validation_samples:num_validation_samples + num_test_samples]\n",
    "    train_images = images_shuffled[num_validation_samples + num_test_samples:]\n",
    "    train_labels = labels_shuffled[num_validation_samples + num_test_samples:]\n",
    "\n",
    "    return train_images, train_labels, validation_images, validation_labels, test_images, test_labels\n",
    "\n",
    "# 학습, 검증, 테스트 데이터셋 생성\n",
    "train_images, train_labels_onehot, validation_images, validation_labels_onehot, test_images, test_labels_onehot = split_dataset(images, labels, validation_ratio=0.1, test_ratio=0.1)\n",
    "\n",
    "# 데이터셋 형태 확인\n",
    "print(\"학습 이미지 shape:\", train_images.shape)\n",
    "print(\"학습 레이블 shape:\", train_labels_onehot.shape)\n",
    "print(\"검증 이미지 shape:\", validation_images.shape)\n",
    "print(\"검증 레이블 shape:\", validation_labels_onehot.shape)\n",
    "print(\"테스트 이미지 shape:\", test_images.shape)\n",
    "print(\"테스트 레이블 shape:\", test_labels_onehot.shape)\n"
   ]
  },
  {
   "cell_type": "code",
   "execution_count": null,
   "metadata": {},
   "outputs": [],
   "source": []
  },
  {
   "cell_type": "code",
   "execution_count": null,
   "metadata": {},
   "outputs": [],
   "source": []
  }
 ],
 "metadata": {
  "kernelspec": {
   "display_name": "Python 3",
   "language": "python",
   "name": "python3"
  },
  "language_info": {
   "codemirror_mode": {
    "name": "ipython",
    "version": 3
   },
   "file_extension": ".py",
   "mimetype": "text/x-python",
   "name": "python",
   "nbconvert_exporter": "python",
   "pygments_lexer": "ipython3",
   "version": "3.10.13"
  }
 },
 "nbformat": 4,
 "nbformat_minor": 2
}
