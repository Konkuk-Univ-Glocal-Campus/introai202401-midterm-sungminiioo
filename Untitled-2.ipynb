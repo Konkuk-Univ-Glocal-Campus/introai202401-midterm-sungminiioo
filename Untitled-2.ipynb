{
 "cells": [
  {
   "cell_type": "code",
   "execution_count": 8,
   "metadata": {},
   "outputs": [
    {
     "name": "stdout",
     "output_type": "stream",
     "text": [
      "이미지 shape: (10000, 28, 28)\n",
      "레이블 shape: (10000,)\n"
     ]
    }
   ],
   "source": [
    "import gzip\n",
    "import numpy as np\n",
    "\n",
    "def load_mnist_images(filename):\n",
    "    with gzip.open(filename, 'rb') as f:\n",
    "        # 매직 넘버 읽기\n",
    "        magic = int.from_bytes(f.read(4), 'big')\n",
    "        if magic != 2051:\n",
    "            raise ValueError(\"Invalid magic number in MNIST image file: {}\".format(magic))\n",
    "        \n",
    "        # 이미지 수, 행, 열 읽기\n",
    "        num_images = int.from_bytes(f.read(4), 'big')\n",
    "        num_rows = int.from_bytes(f.read(4), 'big')\n",
    "        num_cols = int.from_bytes(f.read(4), 'big')\n",
    "        \n",
    "        # 이미지 데이터 읽기\n",
    "        images = np.frombuffer(f.read(), dtype=np.uint8)\n",
    "        images = images.reshape((num_images, num_rows, num_cols))\n",
    "        \n",
    "        return images\n",
    "\n",
    "def load_mnist_labels(filename):\n",
    "    with gzip.open(filename, 'rb') as f:\n",
    "        # 매직 넘버 읽기\n",
    "        magic = int.from_bytes(f.read(4), 'big')\n",
    "        if magic != 2049:\n",
    "            raise ValueError(\"Invalid magic number in MNIST label file: {}\".format(magic))\n",
    "        \n",
    "        # 레이블 수 읽기\n",
    "        num_labels = int.from_bytes(f.read(4), 'big')\n",
    "        \n",
    "        # 레이블 데이터 읽기\n",
    "        labels = np.frombuffer(f.read(), dtype=np.uint8)\n",
    "        \n",
    "        return labels\n",
    "\n",
    "# 파일 경로 설정\n",
    "images_path = 't10k-images-idx3-ubyte.gz'\n",
    "labels_path = 't10k-labels-idx1-ubyte.gz'\n",
    "\n",
    "# MNIST 이미지와 레이블 로드\n",
    "images = load_mnist_images(images_path)\n",
    "labels = load_mnist_labels(labels_path)\n",
    "\n",
    "# 데이터 확인\n",
    "print(\"이미지 shape:\", images.shape)\n",
    "print(\"레이블 shape:\", labels.shape)\n"
   ]
  },
  {
   "cell_type": "code",
   "execution_count": 10,
   "metadata": {},
   "outputs": [
    {
     "name": "stdout",
     "output_type": "stream",
     "text": [
      "학습 이미지 shape: (7000, 28, 28)\n",
      "테스트 이미지 shape: (3000, 28, 28)\n",
      "학습 레이블 shape: (7000,)\n",
      "테스트 레이블 shape: (3000,)\n",
      "학습 이미지 타입: uint8\n",
      "테스트 이미지 타입: uint8\n",
      "학습 레이블 타입: uint8\n",
      "테스트 레이블 타입: uint8\n"
     ]
    }
   ],
   "source": [
    "# 학습 데이터와 테스트 데이터 분리\n",
    "\n",
    "num_test_samples = 3000\n",
    "\n",
    "\n",
    "train_images = images[:-num_test_samples]\n",
    "test_images = images[-num_test_samples:]\n",
    "train_labels = labels[:-num_test_samples]\n",
    "test_labels = labels[-num_test_samples:]\n",
    "\n",
    "# 데이터 형태 확인\n",
    "print(\"학습 이미지 shape:\", train_images.shape)\n",
    "print(\"테스트 이미지 shape:\", test_images.shape)\n",
    "print(\"학습 레이블 shape:\", train_labels.shape)\n",
    "print(\"테스트 레이블 shape:\", test_labels.shape)\n",
    "\n",
    "# 데이터 타입 확인\n",
    "print(\"학습 이미지 타입:\", train_images.dtype)\n",
    "print(\"테스트 이미지 타입:\", test_images.dtype)\n",
    "print(\"학습 레이블 타입:\", train_labels.dtype)\n",
    "print(\"테스트 레이블 타입:\", test_labels.dtype)\n"
   ]
  },
  {
   "cell_type": "code",
   "execution_count": null,
   "metadata": {},
   "outputs": [],
   "source": []
  }
 ],
 "metadata": {
  "kernelspec": {
   "display_name": "Python 3",
   "language": "python",
   "name": "python3"
  },
  "language_info": {
   "codemirror_mode": {
    "name": "ipython",
    "version": 3
   },
   "file_extension": ".py",
   "mimetype": "text/x-python",
   "name": "python",
   "nbconvert_exporter": "python",
   "pygments_lexer": "ipython3",
   "version": "3.10.13"
  }
 },
 "nbformat": 4,
 "nbformat_minor": 2
}
