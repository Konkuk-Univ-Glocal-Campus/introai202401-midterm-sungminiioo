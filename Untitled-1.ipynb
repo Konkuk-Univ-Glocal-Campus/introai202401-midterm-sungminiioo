{
 "cells": [
  {
   "cell_type": "code",
   "execution_count": 21,
   "metadata": {},
   "outputs": [],
   "source": [
    "import gzip\n",
    "import numpy as np\n",
    "from sklearn.model_selection import train_test_split\n",
    "def load_mnist_images(filename):\n",
    "    with gzip.open(filename, 'rb') as f:\n",
    "        data = np.frombuffer(f.read(), np.uint8, offset=16)\n",
    "    data = data.reshape(-1, 28, 28) / 255.0  # 이미지를 0~1 범위로 스케일 조정\n",
    "    return data\n",
    "\n",
    "def load_mnist_labels(filename):\n",
    "    with gzip.open(filename, 'rb') as f:\n",
    "        labels = np.frombuffer(f.read(), np.uint8, offset=8)\n",
    "    return labels\n",
    "\n"
   ]
  },
  {
   "cell_type": "code",
   "execution_count": 20,
   "metadata": {},
   "outputs": [
    {
     "name": "stdout",
     "output_type": "stream",
     "text": [
      "이미지 데이터 shape: (10000, 28, 28)\n",
      "레이블 데이터 shape: (10000,)\n"
     ]
    }
   ],
   "source": [
    "# 이미지와 레이블 파일을 로드합니다.\n",
    "images = load_mnist_images('t10k-images-idx3-ubyte.gz')\n",
    "labels = load_mnist_labels('t10k-labels-idx1-ubyte.gz')\n",
    "\n",
    "# 데이터의 모양과 타입을 확인합니다.\n",
    "print(\"이미지 데이터 shape:\", images.shape)\n",
    "print(\"레이블 데이터 shape:\", labels.shape)"
   ]
  },
  {
   "cell_type": "code",
   "execution_count": 22,
   "metadata": {},
   "outputs": [
    {
     "name": "stdout",
     "output_type": "stream",
     "text": [
      "학습 이미지 데이터 shape: (8333, 28, 28)\n",
      "학습 레이블 데이터 shape: (8333,)\n",
      "테스트 이미지 데이터 shape: (1667, 28, 28)\n",
      "테스트 레이블 데이터 shape: (1667,)\n"
     ]
    }
   ],
   "source": [
    "# 이미지와 레이블 파일을 로드합니다.\n",
    "images = load_mnist_images('t10k-images-idx3-ubyte.gz')\n",
    "labels = load_mnist_labels('t10k-labels-idx1-ubyte.gz')\n",
    "\n",
    "# 데이터를 학습 및 테스트 데이터로 분할합니다.\n",
    "train_images, test_images, train_labels, test_labels = train_test_split(images, labels, test_size=0.16666, random_state=42)\n",
    "\n",
    "# 데이터의 모양과 타입을 확인합니다.\n",
    "print(\"학습 이미지 데이터 shape:\", train_images.shape)\n",
    "print(\"학습 레이블 데이터 shape:\", train_labels.shape)\n",
    "print(\"테스트 이미지 데이터 shape:\", test_images.shape)\n",
    "print(\"테스트 레이블 데이터 shape:\", test_labels.shape)\n"
   ]
  },
  {
   "cell_type": "code",
   "execution_count": 2,
   "metadata": {},
   "outputs": [
    {
     "name": "stdout",
     "output_type": "stream",
     "text": [
      "이미지 데이터 shape: (10000, 28, 28)\n",
      "원핫 인코딩된 레이블 데이터 shape: (10000, 10)\n"
     ]
    }
   ],
   "source": [
    "from tensorflow.keras.utils import to_categorical\n",
    "\n",
    "def get_preprocessed_data(images, labels):\n",
    "    # 학습과 테스트 이미지 array를 0~1 사이값으로 scale 및 float32 형 변형. \n",
    "    images = np.array(images/255.0, dtype=np.float32)\n",
    "    labels = np.array(labels, dtype=np.float32)\n",
    "    \n",
    "    return images, labels\n",
    "\n",
    "def get_preprocessed_ohe(images, labels):\n",
    "    images, labels = get_preprocessed_data(images, labels)\n",
    "    # OHE 적용 \n",
    "    oh_labels = to_categorical(labels)\n",
    "    return images, oh_labels\n",
    "\n",
    "# 이미지와 레이블 파일을 로드합니다.\n",
    "images = load_mnist_images('t10k-images-idx3-ubyte.gz')\n",
    "labels = load_mnist_labels('t10k-labels-idx1-ubyte.gz')\n",
    "\n",
    "# 데이터를 전처리합니다.\n",
    "images, oh_labels = get_preprocessed_ohe(images, labels)\n",
    "\n",
    "# 데이터의 모양과 타입을 확인합니다.\n",
    "print(\"이미지 데이터 shape:\", images.shape)\n",
    "print(\"원핫 인코딩된 레이블 데이터 shape:\", oh_labels.shape)\n"
   ]
  },
  {
   "cell_type": "code",
   "execution_count": null,
   "metadata": {},
   "outputs": [],
   "source": []
  }
 ],
 "metadata": {
  "kernelspec": {
   "display_name": "Python 3",
   "language": "python",
   "name": "python3"
  },
  "language_info": {
   "codemirror_mode": {
    "name": "ipython",
    "version": 3
   },
   "file_extension": ".py",
   "mimetype": "text/x-python",
   "name": "python",
   "nbconvert_exporter": "python",
   "pygments_lexer": "ipython3",
   "version": "3.10.13"
  }
 },
 "nbformat": 4,
 "nbformat_minor": 2
}
